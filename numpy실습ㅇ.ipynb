{
  "nbformat": 4,
  "nbformat_minor": 0,
  "metadata": {
    "colab": {
      "provenance": [],
      "authorship_tag": "ABX9TyPBwy7x5Z/KQPBobnk8pkd3",
      "include_colab_link": true
    },
    "kernelspec": {
      "name": "python3",
      "display_name": "Python 3"
    },
    "language_info": {
      "name": "python"
    }
  },
  "cells": [
    {
      "cell_type": "markdown",
      "metadata": {
        "id": "view-in-github",
        "colab_type": "text"
      },
      "source": [
        "<a href=\"https://colab.research.google.com/github/endlessrunnrer/pratice-Python/blob/main/numpy%EC%8B%A4%EC%8A%B5%E3%85%87.ipynb\" target=\"_parent\"><img src=\"https://colab.research.google.com/assets/colab-badge.svg\" alt=\"Open In Colab\"/></a>"
      ]
    },
    {
      "cell_type": "markdown",
      "source": [
        "\n",
        "강좌명 : K-mooc <Ai 기반 기초이론.>  (김영훈, 전현우)"
      ],
      "metadata": {
        "id": "2GVvNTuPJAfB"
      }
    },
    {
      "cell_type": "markdown",
      "source": [
        "**Array**"
      ],
      "metadata": {
        "id": "94Zh5qbpZDEo"
      }
    },
    {
      "cell_type": "markdown",
      "source": [
        "**Numpy**\n",
        "는 수학 연산과 배열 처리를 쉽게 만들어주는 필수 도구입니다.\n",
        "\n",
        "왜 NumPy를 사용할까?\n",
        "\n",
        "빠름: 일반 파이썬보다 수학 계산이 훨씬 빠릅니다.\n",
        "\n",
        "배열(Array) 처리: 수많은 데이터를 한 번에 다룰 때 유용합니다. (리스트보다 강력함)\n",
        "\n",
        "수학 함수 제공: 행렬, 통계, 삼각함수 등 다양한 수학 기능을 지원합니다.\n",
        "\n",
        "데이터 분석과 과학 계산에 필수: 머신러닝, 데이터 과학에서 기본 도구로 사용됩니다.\n",
        "\n",
        "\n",
        "\n",
        "\n"
      ],
      "metadata": {
        "id": "LG498vmKaxSV"
      }
    },
    {
      "cell_type": "code",
      "source": [
        "import numpy as np\n",
        "\n",
        "a = np.array([1, 2, 3])\n",
        "print(type(a))\n",
        "print(a.shape)\n",
        "print(a[0], a[1], a[2])\n",
        "a[0]=333\n",
        "print(a)\n",
        "\n",
        "b= np.array(([1,2,3], [4,556,56]))\n",
        "print(b.shape)\n",
        "print(b[0,0], b[0,2], b[1,2])"
      ],
      "metadata": {
        "colab": {
          "base_uri": "https://localhost:8080/"
        },
        "id": "oewhqba5a7_T",
        "outputId": "99a0ad8e-bed6-48e1-90a4-2500954e00f3"
      },
      "execution_count": null,
      "outputs": [
        {
          "output_type": "stream",
          "name": "stdout",
          "text": [
            "<class 'numpy.ndarray'>\n",
            "(3,)\n",
            "1 2 3\n",
            "[333   2   3]\n",
            "(2, 3)\n",
            "1 3 56\n"
          ]
        }
      ]
    },
    {
      "cell_type": "code",
      "source": [],
      "metadata": {
        "id": "w1nnwMfKboqK"
      },
      "execution_count": null,
      "outputs": []
    },
    {
      "cell_type": "markdown",
      "source": [
        "주의! 리스트나 numpy나 시작하는 행이나 열은 항상 0부터이다.\n",
        "\n",
        "\n",
        "---\n",
        "\n",
        "\n",
        "예시: list a = [3, 4, 5]\n",
        "\n",
        "a[0] = 3\n",
        "\n",
        "a[1] = 4\n",
        "\n",
        "a[2] = 5\n",
        "\n",
        "이런 식으로 말이다. 시작은 0부터이다."
      ],
      "metadata": {
        "id": "yiraKny6bgSX"
      }
    },
    {
      "cell_type": "code",
      "source": [
        "import numpy as np\n",
        "\n",
        "a = np.zeros((2, 2))  # 2x2 배열에 모든 요소가 0인 배열 생성\n",
        "print(a)\n",
        "# [[0. 0.]\n",
        "#  [0. 0.]]\n",
        "\n",
        "b = np.ones((1, 2))  # 1x2 배열에 모든 요소가 1인 배열 생성\n",
        "print(b)\n",
        "# [[1. 1.]]\n",
        "\n",
        "c = np.full((2, 2), 7)  # 2x2 배열에 모든 요소가 7인 배열 생성\n",
        "print(c)\n",
        "# [[7 7]\n",
        "#  [7 7]]\n",
        "\n",
        "d = np.eye(2)  # 2x2 단위행렬(identity matrix) 생성\n",
        "print(d)\n",
        "# [[1. 0.]\n",
        "#  [0. 1.]]\n",
        "\n",
        "e = np.random.random((2, 2))  # 2x2 배열에 0~1 사이의 랜덤 값을 가진 배열 생성\n",
        "print(e)\n",
        "# [[0.12345678 0.23456789]  # (랜덤 값이므로 실행할 때마다 값이 다를 수 있음)\n",
        "#  [0.34567890 0.45678901]]\n"
      ],
      "metadata": {
        "colab": {
          "base_uri": "https://localhost:8080/"
        },
        "id": "EruTfloJaxDh",
        "outputId": "4c9c10d9-42e6-456b-a4a7-9a3aa2de5895"
      },
      "execution_count": null,
      "outputs": [
        {
          "output_type": "stream",
          "name": "stdout",
          "text": [
            "[[0. 0.]\n",
            " [0. 0.]]\n",
            "[[1. 1.]]\n",
            "[[7 7]\n",
            " [7 7]]\n",
            "[[1. 0.]\n",
            " [0. 1.]]\n",
            "[[0.68219791 0.0274997 ]\n",
            " [0.40528795 0.97514699]]\n"
          ]
        }
      ]
    },
    {
      "cell_type": "code",
      "source": [
        "import numpy as np\n",
        "\n",
        "a = np.array(([1, 2, 3, 4], [5, 6, 7, 8], [243, 45646, 43312, 111]))\n",
        "# a는 3x4 크기의 배열로, 값은 다음과 같음:\n",
        "# [[    1     2     3     4]\n",
        "#  [    5     6     7     8]\n",
        "#  [  243 45646 43312   111]]\n",
        "\n",
        "# ????????????????????????\n",
        "b = a[:2, 1:3]  # a 배열의 일부분(슬라이싱)을 가져와 b에 저장\n",
        "# 슬라이싱: a의 첫 두 행(0, 1번 행)과 1~2번 열을 선택\n",
        "# b는 아래와 같은 배열:\n",
        "# [[2 3]\n",
        "#  [6 7]]\n",
        "#????????????????????????\n",
        "\n",
        "print(a[0, 1])  # a 배열의 0번 행, 1번 열 값을 출력\n",
        "# 출력: 2\n",
        "\n",
        "b[0, 0] = 77  # b의 0번 행, 0번 열 값을 77로 변경\n",
        "# 여기서 중요한 점! b는 a의 **일부분을 참조**한 배열이기 때문에,\n",
        "# b의 값을 바꾸면 a도 함께 바뀐다!\n",
        "\n",
        "print(a[0, 1])  # 다시 a 배열의 0번 행, 1번 열 값을 출력\n",
        "# 출력: 77 (b에서 값을 바꿨기 때문에 a의 값도 77로 바뀜)\n"
      ],
      "metadata": {
        "colab": {
          "base_uri": "https://localhost:8080/"
        },
        "id": "FRh6OnGGaxA_",
        "outputId": "ef9d2f8e-ab00-493b-ed60-e45206f0f68d"
      },
      "execution_count": null,
      "outputs": [
        {
          "output_type": "stream",
          "name": "stdout",
          "text": [
            "2\n",
            "77\n"
          ]
        }
      ]
    },
    {
      "cell_type": "markdown",
      "source": [
        "b = a[:2, 1:3] 부분 쉽게 설명\n",
        "슬라이싱의 의미\n",
        "\n",
        "\n",
        "a[:2, 1:3]:\n",
        "행 범위: :2 → 0번 행부터 1번 행까지 선택\n",
        "\n",
        "열 범위: 1:3 → 1번 열부터 2번 열까지 선택\n",
        "\n",
        "따라서 2x2 부분 배열을 선택하게 돼.\n",
        "\n",
        "b는 원래 배열 a의 복사본이 아닌 참조\n",
        "\n",
        "\n",
        "**b는 a의 일부를 가리키는 포인터(참조)**야.\n",
        "그래서 b의 값을 바꾸면 a도 함께 바뀌는 거지.\n"
      ],
      "metadata": {
        "id": "b0ZDUHQsoKCK"
      }
    },
    {
      "cell_type": "code",
      "execution_count": null,
      "metadata": {
        "colab": {
          "base_uri": "https://localhost:8080/"
        },
        "id": "pS8hl9KRY_8u",
        "outputId": "9c1fd174-b7ff-474a-f06e-1c3139785f0a"
      },
      "outputs": [
        {
          "output_type": "stream",
          "name": "stdout",
          "text": [
            "[5 6 7 8] (4,)\n",
            "[[5 6 7 8]] (1, 4)\n",
            "[ 2  6 10] (3,)\n",
            "[[ 2]\n",
            " [ 6]\n",
            " [10]] (3, 1)\n"
          ]
        }
      ],
      "source": [
        "import numpy as np\n",
        "a = np.array([[1, 2, 3, 4],\n",
        "              [5, 6, 7, 8],\n",
        "              [9, 10, 11, 12]])\n",
        "\n",
        "row_1 = a[1, :]  # 1번 행의 모든 열을 선택 (1차원 배열로 반환)\n",
        "row_2 = a[1:2, :]  # 1번 행을 선택하되, 2차원 형태 유지\n",
        "print(row_1, row_1.shape)\n",
        "# 출력: [5 6 7 8] (4,)\n",
        "print(row_2, row_2.shape)\n",
        "# 출력: [[5 6 7 8]] (1, 4)\n",
        "\n",
        "col_1 = a[:, 1]  # 모든 행에서 1번 열을 선택 (1차원 배열로 반환)\n",
        "col_2 = a[:, 1:2]  # 모든 행에서 1번 열을 선택하되, 2차원 형태 유지\n",
        "print(col_1, col_1.shape)\n",
        "# 출력: [ 2  6 10] (3,)\n",
        "print(col_2, col_2.shape)\n",
        "# 출력: [[ 2]\n",
        "#         [ 6]\n",
        "#         [10]] (3, 1)\n"
      ]
    },
    {
      "cell_type": "markdown",
      "source": [
        "1.    row_1 vs row_2\n",
        "\n",
        "row_1 = a[1, :] → 1차원 배열 (shape: (4,))\n",
        "\n",
        "1번 행을 1차원 배열로 가져옴.\n",
        "\n",
        "결과: [5 6 7 8]\n",
        "\n",
        "row_2 = a[1:2, :] → 2차원 배열 (shape: (1, 4))\n",
        "\n",
        "1번 행을 2차원 배열로 유지. (행이 1개뿐인 2차원 배열)\n",
        "결과: [[5 6 7 8]]"
      ],
      "metadata": {
        "id": "T-gJNqEDs93b"
      }
    },
    {
      "cell_type": "code",
      "source": [],
      "metadata": {
        "id": "HKBSON7buNJF"
      },
      "execution_count": null,
      "outputs": []
    },
    {
      "cell_type": "markdown",
      "source": [
        "2. col_1 vs col_2\n",
        "\n",
        "col_1 = a[:, 1] → 1차원 배열 (shape: (3,))\n",
        "\n",
        "모든 행의 1번 열을 1차원 배열로 가져옴.\n",
        "\n",
        "결과: [ 2 6 10]\n",
        "\n",
        "col_2 = a[:, 1:2] → 2차원 배열 (shape: (3, 1))\n",
        "\n",
        "모든 행의 1번 열을 2차원 배열로 유지.\n"
      ],
      "metadata": {
        "id": "bnmO9pTmtwmp"
      }
    },
    {
      "cell_type": "code",
      "source": [],
      "metadata": {
        "id": "ESMVJsxxuDK9"
      },
      "execution_count": null,
      "outputs": []
    },
    {
      "cell_type": "markdown",
      "source": [
        "??????????????????????????\n",
        "\n",
        "이해가 안감... 아니 이게 어째서 1차원하고 2차원 차이로 갈리는 거지?\n"
      ],
      "metadata": {
        "id": "VIA2KvvQt1fO"
      }
    },
    {
      "cell_type": "code",
      "source": [],
      "metadata": {
        "id": "U1ZqtE5_Z0Um"
      },
      "execution_count": null,
      "outputs": []
    },
    {
      "cell_type": "markdown",
      "source": [
        "둘 다 값은 같아 보이지만...\n",
        "\n",
        "row_1 = a[1, :]\n",
        "\n",
        "1차원 배열로 반환되며, 리스트처럼 동작함.\n",
        "\n",
        "모양(shape): (4,) → 요소가 4개인 1줄짜리 배열\n",
        "\n",
        "행(row) 개념이 없음 (단순한 값들의 나열)\n",
        "\n",
        "row_2 = a[1:2, :]\n",
        "\n",
        "2차원 배열로 반환되며, 행과 열이 명확하게 나눠져 있음.\n",
        "\n",
        "모양(shape): (1, 4) → 1행 4열인 2차원 배열"
      ],
      "metadata": {
        "id": "gRnrfCfyunMy"
      }
    },
    {
      "cell_type": "code",
      "source": [
        "import numpy as np\n",
        "\n",
        "a = np.array([[1, 2], [3, 4], [5, 6]])\n",
        "\n",
        "print(a[[0, 1, 2], [0, 1, 0]])\n",
        "# 출력: [1 4 5]\n",
        "# 👉 Fancy Indexing: 각각 (0, 0), (1, 1), (2, 0) 위치의 요소를 선택하여 배열로 반환\n",
        "# a[0, 0] = 1, a[1, 1] = 4, a[2, 0] = 5\n",
        "\n",
        "print(np.array([a[0, 0], a[1, 1], a[2, 0]]))\n",
        "# 출력: [1 4 5]\n",
        "# 👉 일반 배열 생성: 직접 각 요소를 선택해 1차원 배열 생성\n",
        "# np.array([1, 4, 5])와 동일\n",
        "\n",
        "\n",
        "# ??????????????????????????????????\n",
        "print(a[a[0, 0], [1, 1]])\n",
        "# 출력: [3 3]\n",
        "# 👉 a[0, 0]의 값은 1, 따라서 a[1, [1, 1]]과 동일하게 동작\n",
        "# a[1, 1] = 3이므로 3이 두 번 반환됨\n",
        "\n",
        "print(np.array([a[0, 1], a[0, 1]]))\n",
        "# 출력: [2 2]\n",
        "# 👉 직접 같은 값을 두 번 선택해 배열 생성\n",
        "# np.array([2, 2])와 동일\n",
        "#??????????????????????????????????????\n"
      ],
      "metadata": {
        "colab": {
          "base_uri": "https://localhost:8080/"
        },
        "id": "yjzCpKZ1vNRK",
        "outputId": "68886493-5e54-4f9c-86f9-3ae951c183e0"
      },
      "execution_count": null,
      "outputs": [
        {
          "output_type": "stream",
          "name": "stdout",
          "text": [
            "[1 4 5]\n",
            "[1 4 5]\n",
            "[4 4]\n",
            "[2 2]\n"
          ]
        }
      ]
    },
    {
      "cell_type": "markdown",
      "source": [
        "우웩.. 아 머리아파. 이거 뭐야? print(a[a[0, 0], [1, 1]])\n",
        "\n",
        "왜 결과가 [4,4]임???\n",
        "\n",
        "print(a[1, [1,1])이 되는데? 이걸 어케 계산함?\n",
        "\n",
        "행과 행렬이라고 치면, 결과값이 a[1, 3]아닌가??  [1,1]을 먼저 계산하면? 이거 좌표잖아.\n"
      ],
      "metadata": {
        "id": "QSD04RKYyqDL"
      }
    },
    {
      "cell_type": "code",
      "source": [],
      "metadata": {
        "id": "dgEPWF9V5LEq"
      },
      "execution_count": null,
      "outputs": []
    },
    {
      "cell_type": "markdown",
      "source": [
        "2️⃣ a[1, [1, 1]]는 무슨 의미일까?\n",
        "\n",
        "\n",
        "a[1, [1, 1]]는 Fancy Indexing으로 작동해.\n",
        "\n",
        "여기서 (1번 행에서 1번 열)을 두 번 선택한다는 의미야. (존나 중요)::::::::::::\n",
        "\n",
        "즉, 1번 행의 1번 열 값은 4니까, 이 값을 두 번 반복해서 반환해.\n",
        "\n",
        "따라서 **[4, 4]**가 출력되는 거야!\n",
        "\n",
        "그저 G.O.A.T 역시 챗지퓌티!"
      ],
      "metadata": {
        "id": "9NUXnR4N4o_8"
      }
    },
    {
      "cell_type": "markdown",
      "source": [
        "내가 보기엔 a[1, [1,1]]의 핵심은 맨 처음의 1이 횟수이고 0으로시작하니까 2번임.\n",
        "\n",
        "뒤에 것이 [1,1]이니까 그대로 계산하면 4이다.\n",
        "\n",
        " 근데 이것을 두번 반환하니까 결과는 [4,4]\n"
      ],
      "metadata": {
        "id": "1hURnoVN31D9"
      }
    },
    {
      "cell_type": "code",
      "source": [
        "import numpy as np\n",
        "\n",
        "a = np.array([[1, 2, 3], [4, 5, 6], [7, 8, 9], [10, 11, 12]])\n",
        "\n",
        "print(a)\n",
        "# 출력:\n",
        "# [[ 1  2  3]\n",
        "#  [ 4  5  6]\n",
        "#  [ 7  8  9]\n",
        "#  [10 11 12]]\n",
        "\n",
        "b = np.array([0, 2, 0, 1])\n",
        "\n",
        "print(a[np.arange(4), b])\n",
        "# 출력: [ 1  6  7 11 ]\n",
        "# Fancy Indexing: (0,0), (1,2), (2,0), (3,1)의 값을 선택\n",
        "\n",
        "a[np.arange(4), b] += 10\n",
        "\n",
        "print(a)\n",
        "# 출력:\n",
        "# [[11  2  3]\n",
        "#  [ 4  5 16]\n",
        "#  [17  8  9]\n",
        "#  [10 21 12]]\n"
      ],
      "metadata": {
        "colab": {
          "base_uri": "https://localhost:8080/"
        },
        "id": "QjvvcV3t5vbK",
        "outputId": "af1c7bb6-fb14-44c2-f95d-14ef68768866"
      },
      "execution_count": null,
      "outputs": [
        {
          "output_type": "stream",
          "name": "stdout",
          "text": [
            "[[ 1  2  3]\n",
            " [ 4  5  6]\n",
            " [ 7  8  9]\n",
            " [10 11 12]]\n",
            "[ 1  6  7 11]\n",
            "[[11  2  3]\n",
            " [ 4  5 16]\n",
            " [17  8  9]\n",
            " [10 21 12]]\n"
          ]
        }
      ]
    },
    {
      "cell_type": "markdown",
      "source": [
        "오늘은 여기까지~~~ / 2025.02.12  "
      ],
      "metadata": {
        "id": "itSx50vjI6Iq"
      }
    },
    {
      "cell_type": "code",
      "source": [
        "import numpy as np  # numpy 라이브러리를 불러옴\n",
        "\n",
        "a = np.array([[1, 2], [3, 4], [5, 6]])\n",
        "# 2차원 배열 a를 생성합니다.\n",
        "# a = [[1, 2]\n",
        "#      [3, 4]\n",
        "#      [5, 6]]\n",
        "\n",
        "bool_idx = (a > 2)\n",
        "# 배열 a의 각 요소가 2보다 큰지 비교한 결과를 bool_idx에 저장합니다.\n",
        "# bool_idx = [[False, False]\n",
        "#             [True, True]\n",
        "#             [True, True]]\n",
        "\n",
        "print(bool_idx)\n",
        "# bool_idx 값을 출력합니다.\n",
        "# [[False False]\n",
        "#  [ True  True]\n",
        "#  [ True  True]]\n",
        "\n",
        "print(a[bool_idx])\n",
        "# a 배열에서 bool_idx가 True인 요소들만 선택하여 1차원 배열로 반환합니다.\n",
        "# [3 4 5 6]\n",
        "\n",
        "print(a[a > 2])\n",
        "# 위와 동일한 방식으로 조건에 맞는 요소만 선택하여 출력합니다.\n",
        "# [3 4 5 6]\n"
      ],
      "metadata": {
        "id": "HVRAFXJEVqf-",
        "outputId": "edecbfaa-b9e2-4dc4-bbae-9902c921a3f4",
        "colab": {
          "base_uri": "https://localhost:8080/"
        }
      },
      "execution_count": 1,
      "outputs": [
        {
          "output_type": "stream",
          "name": "stdout",
          "text": [
            "[[False False]\n",
            " [ True  True]\n",
            " [ True  True]]\n",
            "[3 4 5 6]\n",
            "[3 4 5 6]\n"
          ]
        }
      ]
    },
    {
      "cell_type": "markdown",
      "source": [
        "print(a[bool_idx])  하고\n",
        "\n",
        "print(a[a > 2])  이거 둘 다 같음.\n",
        "\n",
        "bool_idx = a > 2이니까.\n",
        "\n"
      ],
      "metadata": {
        "id": "2IMtqOWFW5QP"
      }
    },
    {
      "cell_type": "code",
      "source": [],
      "metadata": {
        "id": "bCiv-a0EW8ZV"
      },
      "execution_count": null,
      "outputs": []
    },
    {
      "cell_type": "markdown",
      "source": [
        "근데 Array가 정확히 뭐지? 챗지피티 help\n",
        "\n",
        "Array(배열)란?\n",
        "\n",
        "**Array(배열)**은 여러 값을 하나로 묶은 데이터 구조야.\n",
        "\n",
        "쉽게 말해 숫자나 값을 줄 세워 놓은 상자 같은 거야.\n",
        "\n",
        "\n",
        "예를 들어, 숫자 1, 2, 3, 4, 5를 하나의 배열로 만들면: a = np.array[1,2,3,4,5]\n",
        "\n",
        "배열이 왜 필요할까?\n",
        "\n",
        "1. 여러 값을 쉽게 관리할 수 있어.\n",
        "\n",
        "2. 계산이나 데이터 분석을 할 때 빠르고\n",
        "효율적이야.\n",
        "\n",
        "3. 숫자를 한꺼번에 처리할 수 있어서, 수학적 연산에 유리해."
      ],
      "metadata": {
        "id": "pP-R4jssXaGO"
      }
    },
    {
      "cell_type": "markdown",
      "source": [
        "Array Math."
      ],
      "metadata": {
        "id": "48-2dx-3X4jB"
      }
    },
    {
      "cell_type": "code",
      "source": [],
      "metadata": {
        "id": "pZVJ1q2UYMG_"
      },
      "execution_count": null,
      "outputs": []
    },
    {
      "cell_type": "code",
      "source": [
        "import numpy as np  # numpy 라이브러리 불러오기\n",
        "\n",
        "x = np.array([[1, 2], [3, 4]], dtype=np.float64)\n",
        "y = np.array([[5, 6], [7, 8]], dtype=np.float64)\n",
        "# x와 y는 2x2 크기의 2차원 배열로 생성됨\n",
        "print(x + y)\n",
        "# [[ 1+5  2+6]\n",
        "#  [ 3+7  4+8]]\n",
        "# 결과: [[ 6.  8.]\n",
        "#         [10. 12.]]\n",
        "\n",
        "print(np.add(x, y))\n",
        "# 위와 동일한 결과를 반환함\n",
        "# 결과: [[ 6.  8.]\n",
        "#         [10. 12.]]\n",
        "print(x - y)\n",
        "# [[ 1-5  2-6]\n",
        "#  [ 3-7  4-8]]\n",
        "# 결과: [[-4. -4.]\n",
        "#         [-4. -4.]]\n",
        "\n",
        "print(np.subtract(x, y))\n",
        "# 위와 동일한 결과를 반환함\n",
        "# 결과: [[-4. -4.]\n",
        "#         [-4. -4.]]\n",
        "print(x * y)\n",
        "# [[ 1*5  2*6]\n",
        "#  [ 3*7  4*8]]\n",
        "# 결과: [[ 5. 12.]\n",
        "#         [21. 32.]]\n",
        "\n",
        "print(np.multiply(x, y))\n",
        "# 위와 동일한 결과를 반환함\n",
        "# 결과: [[ 5. 12.]\n",
        "#         [21. 32.]]\n",
        "print(x / y)\n",
        "# [[ 1/5  2/6]\n",
        "#  [ 3/7  4/8]]\n",
        "# 결과: [[0.2        0.33333333]\n",
        "#         [0.42857143 0.5       ]]\n",
        "\n",
        "print(np.divide(x, y))\n",
        "# 위와 동일한 결과를 반환함\n",
        "# 결과: [[0.2        0.33333333]\n",
        "#         [0.42857143 0.5       ]]\n",
        "print(np.sqrt(x))\n",
        "# 각 원소에 대해 제곱근을 계산합니다.\n",
        "# [[sqrt(1) sqrt(2)]\n",
        "#  [sqrt(3) sqrt(4)]]\n",
        "# 결과: [[1.         1.41421356]\n",
        "#         [1.73205081 2.        ]]\n"
      ],
      "metadata": {
        "id": "GkUQqbXqX8Up",
        "outputId": "d587af59-6d47-4772-b73b-286388a4e3d7",
        "colab": {
          "base_uri": "https://localhost:8080/"
        }
      },
      "execution_count": 7,
      "outputs": [
        {
          "output_type": "stream",
          "name": "stdout",
          "text": [
            "[[ 6.  8.]\n",
            " [10. 12.]]\n",
            "[[ 6.  8.]\n",
            " [10. 12.]]\n",
            "[[-4. -4.]\n",
            " [-4. -4.]]\n",
            "[[-4. -4.]\n",
            " [-4. -4.]]\n",
            "[[ 5. 12.]\n",
            " [21. 32.]]\n",
            "[[ 5. 12.]\n",
            " [21. 32.]]\n",
            "[[0.2        0.33333333]\n",
            " [0.42857143 0.5       ]]\n",
            "[[0.2        0.33333333]\n",
            " [0.42857143 0.5       ]]\n",
            "[[1.         1.41421356]\n",
            " [1.73205081 2.        ]]\n"
          ]
        }
      ]
    },
    {
      "cell_type": "markdown",
      "source": [
        "강의에서는 이게 무슨 elementwise 계산이라고 하는데 잘 모르겠다. 난 참고로 수학을 뒤지게 못한다.\n",
        "\n",
        "하이고.. 찾아보니 내가 아주 싫어하는 행렬이 나왔다. 이제 피할 수 없는건가...\n",
        "\n",
        "링크:  https://rfriend.tistory.com/818\n",
        "\n",
        "원소간 곱 VS 행렬 곱 이렇게 나온다.\n",
        "\n",
        "(elementwise-product vs matrix multiplication)\n",
        "\n",
        "원소간 곱하는 것은 그냥 그 원소의 위치에 대응하는 좌표의 원소를 곱해주면 되는데, 행렬 곱은 잘 모르겠다. 나한테는 행렬 곱이 더 어렵다."
      ],
      "metadata": {
        "id": "MFnXRv_7aR-s"
      }
    },
    {
      "cell_type": "markdown",
      "source": [
        "생각보다 쉬운데? 괜히 겁먹은 것 같다. 그냥 행에다가 열을 모조리 곱하면 되는거잖아?\n",
        "\n",
        "예시: A = [[1, 2],[3,4]]      B = [[5, 6], [7,8]]\n",
        "\n",
        "(1*5) + (2*7) = 5 + 14 = 19    A 1행에 B의 1열 2열 다 곱해서 더하기\n",
        "\n",
        "(1*6) + (2*8) = 6 + 16 = 22   \n",
        "\n",
        "(3*5) + (4*7) = 15 + 28 = 43   A 2행에 B의 1열 2열 다 곱해서 더하기\n",
        "\n",
        "(3*6) + (4*8) = 18 + 32 = 50\n",
        "\n",
        "\n",
        "C = [[19, 22],\n",
        "     [43, 50]]\n",
        "\n"
      ],
      "metadata": {
        "id": "QO5o0lTFcc9Z"
      }
    },
    {
      "cell_type": "code",
      "source": [
        "from ast import Yield  # 불필요한 임포트. 이 코드는 사용되지 않으므로 삭제 가능.\n",
        "import numpy as np  # numpy 라이브러리 불러오기\n",
        "\n",
        "x = np.array([[1, 2], [3, 4]])\n",
        "# 2x2 행렬 생성\n",
        "\n",
        "y = np.array([[5, 6], [7, 8]])\n",
        "# 2x2 행렬 생성\n",
        "\n",
        "v = np.array([9, 10])\n",
        "# 1차원 벡터 생성\n",
        "\n",
        "w = np.array([11, 12])\n",
        "# 1차원 벡터 생성\n",
        "print(v.dot(w))\n",
        "# (9*11) + (10*12) = 99 + 120 = 219\n",
        "# 결과: 219\n",
        "\n",
        "print(np.dot(v, w))\n",
        "# 위와 동일한 결과\n",
        "# 결과: 219\n",
        "print(x.dot(v))\n",
        "# [[1*9 + 2*10],    → [29]\n",
        "#  [3*9 + 4*10]]    → [67]\n",
        "# 결과: [29 67]\n",
        "\n",
        "print(np.dot(x, v))\n",
        "# 위와 동일한 결과\n",
        "# 결과: [29 67]\n",
        "print(x.dot(y))\n",
        "# [[1*5 + 2*7,  1*6 + 2*8],  → [[19 22]\n",
        "#  [3*5 + 4*7,  3*6 + 4*8]]  →  [43 50]]\n",
        "# 결과: [[19 22]\n",
        "#        [43 50]]\n",
        "\n",
        "print(np.dot(x, y))\n",
        "# 위와 동일한 결과\n",
        "# 결과: [[19 22]\n",
        "#        [43 50]]\n"
      ],
      "metadata": {
        "id": "7x3Wb25HaRtm",
        "outputId": "20bddc34-7a2b-4dc0-df6f-7379e215698d",
        "colab": {
          "base_uri": "https://localhost:8080/"
        }
      },
      "execution_count": 9,
      "outputs": [
        {
          "output_type": "stream",
          "name": "stdout",
          "text": [
            "219\n",
            "219\n",
            "[29 67]\n",
            "[29 67]\n",
            "[[19 22]\n",
            " [43 50]]\n",
            "[[19 22]\n",
            " [43 50]]\n"
          ]
        }
      ]
    },
    {
      "cell_type": "code",
      "source": [
        "import numpy as np  # numpy 라이브러리를 불러오기\n",
        "\n",
        "x = np.array([[1, 2], [3, 4]])  # 2x2 행렬 x를 생성합니다.\n",
        "\n",
        "print(np.sum(x))  # 배열 x의 모든 원소의 합을 계산합니다.\n",
        "# 1 + 2 + 3 + 4 = 10\n",
        "# 출력 결과: 10\n",
        "\n",
        "print(np.sum(x, axis=0))  # axis=0은 각 열(column)의 합을 계산합니다.\n",
        "# 첫 번째 열: 1 + 3 = 4\n",
        "# 두 번째 열: 2 + 4 = 6\n",
        "# 출력 결과: [4 6]\n",
        "\n",
        "print(np.sum(x, axis=1))  # axis=1은 각 행(row)의 합을 계산합니다.\n",
        "# 첫 번째 행: 1 + 2 = 3\n",
        "# 두 번째 행: 3 + 4 = 7\n",
        "# 출력 결과: [3 7]\n",
        "\n",
        "x = np.array([[1, 2], [3, 4]])  # 다시 동일한 2x2 행렬 x를 생성합니다.\n",
        "print(x)  # x 배열을 출력합니다.\n",
        "# [[1 2]\n",
        "#  [3 4]]\n",
        "\n",
        "print(x.T)  # x 배열의 전치 행렬(transpose)을 출력합니다. (행과 열을 뒤바꾼 배열)\n",
        "# [[1 3]\n",
        "#  [2 4]]\n",
        "\n",
        "v = np.array([1, 2, 3])  # 1차원 벡터 v를 생성합니다.\n",
        "print(v)  # 벡터 v를 출력합니다.\n",
        "# [1 2 3]\n",
        "\n",
        "print(v.T)  # 벡터 v의 전치를 시도하지만, 1차원 배열에서는 모양이 변하지 않습니다.\n",
        "# [1 2 3]\n"
      ],
      "metadata": {
        "id": "DvzfYBKugnUv",
        "outputId": "93df1171-a1d9-477c-a434-22e1237507b7",
        "colab": {
          "base_uri": "https://localhost:8080/"
        }
      },
      "execution_count": 13,
      "outputs": [
        {
          "output_type": "stream",
          "name": "stdout",
          "text": [
            "10\n",
            "[4 6]\n",
            "[3 7]\n",
            "[[1 2]\n",
            " [3 4]]\n",
            "[[1 3]\n",
            " [2 4]]\n",
            "[1 2 3]\n",
            "[1 2 3]\n"
          ]
        }
      ]
    },
    {
      "cell_type": "markdown",
      "source": [
        "1. axis란?\n",
        "\n",
        "np.sum() 같은 함수에서 **axis**는 어느 방향으로 계산할지를 결정하는 옵션이야.\n",
        "\n",
        "axis=0 → 세로 방향(열 기준)으로 계산\n",
        "\n",
        "→ 각 열(column)의 값을 더해 새로운 배열을 반환해.\n",
        "\n",
        "\n",
        "\n",
        "axis=1 → 가로 방향(행 기준)으로 계산\n",
        "\n",
        "→ 각 행(row)의 값을 더해 새로운 배열을 반환해.\n",
        "\n",
        "&&& 주의:  행(row)은 가로 열(column)은 세로다.\n",
        "\n"
      ],
      "metadata": {
        "id": "eOs9TZyvjGgr"
      }
    },
    {
      "cell_type": "markdown",
      "source": [
        "numpy실습 강의 끝!!!!!      /2025.2.13"
      ],
      "metadata": {
        "id": "8cDHCb6gkJvY"
      }
    }
  ]
}