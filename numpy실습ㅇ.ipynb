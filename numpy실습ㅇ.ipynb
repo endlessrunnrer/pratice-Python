{
  "nbformat": 4,
  "nbformat_minor": 0,
  "metadata": {
    "colab": {
      "provenance": [],
      "authorship_tag": "ABX9TyMokNFwW67Rs4RNHKVwrK1b",
      "include_colab_link": true
    },
    "kernelspec": {
      "name": "python3",
      "display_name": "Python 3"
    },
    "language_info": {
      "name": "python"
    }
  },
  "cells": [
    {
      "cell_type": "markdown",
      "metadata": {
        "id": "view-in-github",
        "colab_type": "text"
      },
      "source": [
        "<a href=\"https://colab.research.google.com/github/endlessrunnrer/pratice-Python/blob/main/numpy%EC%8B%A4%EC%8A%B5%E3%85%87.ipynb\" target=\"_parent\"><img src=\"https://colab.research.google.com/assets/colab-badge.svg\" alt=\"Open In Colab\"/></a>"
      ]
    },
    {
      "cell_type": "markdown",
      "source": [],
      "metadata": {
        "id": "2GVvNTuPJAfB"
      }
    },
    {
      "cell_type": "markdown",
      "source": [],
      "metadata": {
        "id": "hVpmZJuVZBlc"
      }
    },
    {
      "cell_type": "markdown",
      "source": [
        "**Array**"
      ],
      "metadata": {
        "id": "94Zh5qbpZDEo"
      }
    },
    {
      "cell_type": "markdown",
      "source": [
        "**Numpy**\n",
        "는 수학 연산과 배열 처리를 쉽게 만들어주는 필수 도구입니다.\n",
        "\n",
        "왜 NumPy를 사용할까?\n",
        "\n",
        "빠름: 일반 파이썬보다 수학 계산이 훨씬 빠릅니다.\n",
        "\n",
        "배열(Array) 처리: 수많은 데이터를 한 번에 다룰 때 유용합니다. (리스트보다 강력함)\n",
        "\n",
        "수학 함수 제공: 행렬, 통계, 삼각함수 등 다양한 수학 기능을 지원합니다.\n",
        "\n",
        "데이터 분석과 과학 계산에 필수: 머신러닝, 데이터 과학에서 기본 도구로 사용됩니다.\n",
        "\n",
        "\n",
        "\n",
        "\n"
      ],
      "metadata": {
        "id": "LG498vmKaxSV"
      }
    },
    {
      "cell_type": "code",
      "source": [
        "import numpy as np\n",
        "\n",
        "a = np.array([1, 2, 3])\n",
        "print(type(a))\n",
        "print(a.shape)\n",
        "print(a[0], a[1], a[2])\n",
        "a[0]=333\n",
        "print(a)\n",
        "\n",
        "b= np.array(([1,2,3], [4,556,56]))\n",
        "print(b.shape)\n",
        "print(b[0,0], b[0,2], b[1,2])"
      ],
      "metadata": {
        "colab": {
          "base_uri": "https://localhost:8080/"
        },
        "id": "oewhqba5a7_T",
        "outputId": "99a0ad8e-bed6-48e1-90a4-2500954e00f3"
      },
      "execution_count": null,
      "outputs": [
        {
          "output_type": "stream",
          "name": "stdout",
          "text": [
            "<class 'numpy.ndarray'>\n",
            "(3,)\n",
            "1 2 3\n",
            "[333   2   3]\n",
            "(2, 3)\n",
            "1 3 56\n"
          ]
        }
      ]
    },
    {
      "cell_type": "code",
      "source": [],
      "metadata": {
        "id": "w1nnwMfKboqK"
      },
      "execution_count": null,
      "outputs": []
    },
    {
      "cell_type": "markdown",
      "source": [
        "주의! 리스트나 numpy나 시작하는 행이나 열은 항상 0부터이다.\n",
        "\n",
        "\n",
        "---\n",
        "\n",
        "\n",
        "예시: list a = [3, 4, 5]\n",
        "\n",
        "a[0] = 3\n",
        "\n",
        "a[1] = 4\n",
        "\n",
        "a[2] = 5\n",
        "\n",
        "이런 식으로 말이다. 시작은 0부터이다."
      ],
      "metadata": {
        "id": "yiraKny6bgSX"
      }
    },
    {
      "cell_type": "code",
      "source": [
        "import numpy as np\n",
        "\n",
        "a = np.zeros((2, 2))  # 2x2 배열에 모든 요소가 0인 배열 생성\n",
        "print(a)\n",
        "# [[0. 0.]\n",
        "#  [0. 0.]]\n",
        "\n",
        "b = np.ones((1, 2))  # 1x2 배열에 모든 요소가 1인 배열 생성\n",
        "print(b)\n",
        "# [[1. 1.]]\n",
        "\n",
        "c = np.full((2, 2), 7)  # 2x2 배열에 모든 요소가 7인 배열 생성\n",
        "print(c)\n",
        "# [[7 7]\n",
        "#  [7 7]]\n",
        "\n",
        "d = np.eye(2)  # 2x2 단위행렬(identity matrix) 생성\n",
        "print(d)\n",
        "# [[1. 0.]\n",
        "#  [0. 1.]]\n",
        "\n",
        "e = np.random.random((2, 2))  # 2x2 배열에 0~1 사이의 랜덤 값을 가진 배열 생성\n",
        "print(e)\n",
        "# [[0.12345678 0.23456789]  # (랜덤 값이므로 실행할 때마다 값이 다를 수 있음)\n",
        "#  [0.34567890 0.45678901]]\n"
      ],
      "metadata": {
        "colab": {
          "base_uri": "https://localhost:8080/"
        },
        "id": "EruTfloJaxDh",
        "outputId": "4c9c10d9-42e6-456b-a4a7-9a3aa2de5895"
      },
      "execution_count": null,
      "outputs": [
        {
          "output_type": "stream",
          "name": "stdout",
          "text": [
            "[[0. 0.]\n",
            " [0. 0.]]\n",
            "[[1. 1.]]\n",
            "[[7 7]\n",
            " [7 7]]\n",
            "[[1. 0.]\n",
            " [0. 1.]]\n",
            "[[0.68219791 0.0274997 ]\n",
            " [0.40528795 0.97514699]]\n"
          ]
        }
      ]
    },
    {
      "cell_type": "code",
      "source": [
        "import numpy as np\n",
        "\n",
        "a = np.array(([1, 2, 3, 4], [5, 6, 7, 8], [243, 45646, 43312, 111]))\n",
        "# a는 3x4 크기의 배열로, 값은 다음과 같음:\n",
        "# [[    1     2     3     4]\n",
        "#  [    5     6     7     8]\n",
        "#  [  243 45646 43312   111]]\n",
        "\n",
        "# ????????????????????????\n",
        "b = a[:2, 1:3]  # a 배열의 일부분(슬라이싱)을 가져와 b에 저장\n",
        "# 슬라이싱: a의 첫 두 행(0, 1번 행)과 1~2번 열을 선택\n",
        "# b는 아래와 같은 배열:\n",
        "# [[2 3]\n",
        "#  [6 7]]\n",
        "#????????????????????????\n",
        "\n",
        "print(a[0, 1])  # a 배열의 0번 행, 1번 열 값을 출력\n",
        "# 출력: 2\n",
        "\n",
        "b[0, 0] = 77  # b의 0번 행, 0번 열 값을 77로 변경\n",
        "# 여기서 중요한 점! b는 a의 **일부분을 참조**한 배열이기 때문에,\n",
        "# b의 값을 바꾸면 a도 함께 바뀐다!\n",
        "\n",
        "print(a[0, 1])  # 다시 a 배열의 0번 행, 1번 열 값을 출력\n",
        "# 출력: 77 (b에서 값을 바꿨기 때문에 a의 값도 77로 바뀜)\n"
      ],
      "metadata": {
        "colab": {
          "base_uri": "https://localhost:8080/"
        },
        "id": "FRh6OnGGaxA_",
        "outputId": "ef9d2f8e-ab00-493b-ed60-e45206f0f68d"
      },
      "execution_count": null,
      "outputs": [
        {
          "output_type": "stream",
          "name": "stdout",
          "text": [
            "2\n",
            "77\n"
          ]
        }
      ]
    },
    {
      "cell_type": "markdown",
      "source": [
        "b = a[:2, 1:3] 부분 쉽게 설명\n",
        "슬라이싱의 의미\n",
        "\n",
        "\n",
        "a[:2, 1:3]:\n",
        "행 범위: :2 → 0번 행부터 1번 행까지 선택\n",
        "\n",
        "열 범위: 1:3 → 1번 열부터 2번 열까지 선택\n",
        "\n",
        "따라서 2x2 부분 배열을 선택하게 돼.\n",
        "\n",
        "b는 원래 배열 a의 복사본이 아닌 참조\n",
        "\n",
        "\n",
        "**b는 a의 일부를 가리키는 포인터(참조)**야.\n",
        "그래서 b의 값을 바꾸면 a도 함께 바뀌는 거지.\n"
      ],
      "metadata": {
        "id": "b0ZDUHQsoKCK"
      }
    },
    {
      "cell_type": "code",
      "execution_count": null,
      "metadata": {
        "colab": {
          "base_uri": "https://localhost:8080/"
        },
        "id": "pS8hl9KRY_8u",
        "outputId": "9c1fd174-b7ff-474a-f06e-1c3139785f0a"
      },
      "outputs": [
        {
          "output_type": "stream",
          "name": "stdout",
          "text": [
            "[5 6 7 8] (4,)\n",
            "[[5 6 7 8]] (1, 4)\n",
            "[ 2  6 10] (3,)\n",
            "[[ 2]\n",
            " [ 6]\n",
            " [10]] (3, 1)\n"
          ]
        }
      ],
      "source": [
        "import numpy as np\n",
        "a = np.array([[1, 2, 3, 4],\n",
        "              [5, 6, 7, 8],\n",
        "              [9, 10, 11, 12]])\n",
        "\n",
        "row_1 = a[1, :]  # 1번 행의 모든 열을 선택 (1차원 배열로 반환)\n",
        "row_2 = a[1:2, :]  # 1번 행을 선택하되, 2차원 형태 유지\n",
        "print(row_1, row_1.shape)\n",
        "# 출력: [5 6 7 8] (4,)\n",
        "print(row_2, row_2.shape)\n",
        "# 출력: [[5 6 7 8]] (1, 4)\n",
        "\n",
        "col_1 = a[:, 1]  # 모든 행에서 1번 열을 선택 (1차원 배열로 반환)\n",
        "col_2 = a[:, 1:2]  # 모든 행에서 1번 열을 선택하되, 2차원 형태 유지\n",
        "print(col_1, col_1.shape)\n",
        "# 출력: [ 2  6 10] (3,)\n",
        "print(col_2, col_2.shape)\n",
        "# 출력: [[ 2]\n",
        "#         [ 6]\n",
        "#         [10]] (3, 1)\n"
      ]
    },
    {
      "cell_type": "markdown",
      "source": [
        "1.    row_1 vs row_2\n",
        "\n",
        "row_1 = a[1, :] → 1차원 배열 (shape: (4,))\n",
        "\n",
        "1번 행을 1차원 배열로 가져옴.\n",
        "\n",
        "결과: [5 6 7 8]\n",
        "\n",
        "row_2 = a[1:2, :] → 2차원 배열 (shape: (1, 4))\n",
        "\n",
        "1번 행을 2차원 배열로 유지. (행이 1개뿐인 2차원 배열)\n",
        "결과: [[5 6 7 8]]"
      ],
      "metadata": {
        "id": "T-gJNqEDs93b"
      }
    },
    {
      "cell_type": "code",
      "source": [],
      "metadata": {
        "id": "HKBSON7buNJF"
      },
      "execution_count": null,
      "outputs": []
    },
    {
      "cell_type": "markdown",
      "source": [
        "2. col_1 vs col_2\n",
        "\n",
        "col_1 = a[:, 1] → 1차원 배열 (shape: (3,))\n",
        "\n",
        "모든 행의 1번 열을 1차원 배열로 가져옴.\n",
        "\n",
        "결과: [ 2 6 10]\n",
        "\n",
        "col_2 = a[:, 1:2] → 2차원 배열 (shape: (3, 1))\n",
        "\n",
        "모든 행의 1번 열을 2차원 배열로 유지.\n"
      ],
      "metadata": {
        "id": "bnmO9pTmtwmp"
      }
    },
    {
      "cell_type": "code",
      "source": [],
      "metadata": {
        "id": "ESMVJsxxuDK9"
      },
      "execution_count": null,
      "outputs": []
    },
    {
      "cell_type": "markdown",
      "source": [
        "??????????????????????????\n",
        "\n",
        "이해가 안감... 아니 이게 어째서 1차원하고 2차원 차이로 갈리는 거지?\n"
      ],
      "metadata": {
        "id": "VIA2KvvQt1fO"
      }
    },
    {
      "cell_type": "code",
      "source": [],
      "metadata": {
        "id": "U1ZqtE5_Z0Um"
      },
      "execution_count": null,
      "outputs": []
    },
    {
      "cell_type": "markdown",
      "source": [
        "둘 다 값은 같아 보이지만...\n",
        "\n",
        "row_1 = a[1, :]\n",
        "\n",
        "1차원 배열로 반환되며, 리스트처럼 동작함.\n",
        "\n",
        "모양(shape): (4,) → 요소가 4개인 1줄짜리 배열\n",
        "\n",
        "행(row) 개념이 없음 (단순한 값들의 나열)\n",
        "\n",
        "row_2 = a[1:2, :]\n",
        "\n",
        "2차원 배열로 반환되며, 행과 열이 명확하게 나눠져 있음.\n",
        "\n",
        "모양(shape): (1, 4) → 1행 4열인 2차원 배열"
      ],
      "metadata": {
        "id": "gRnrfCfyunMy"
      }
    },
    {
      "cell_type": "code",
      "source": [
        "import numpy as np\n",
        "\n",
        "a = np.array([[1, 2], [3, 4], [5, 6]])\n",
        "\n",
        "print(a[[0, 1, 2], [0, 1, 0]])\n",
        "# 출력: [1 4 5]\n",
        "# 👉 Fancy Indexing: 각각 (0, 0), (1, 1), (2, 0) 위치의 요소를 선택하여 배열로 반환\n",
        "# a[0, 0] = 1, a[1, 1] = 4, a[2, 0] = 5\n",
        "\n",
        "print(np.array([a[0, 0], a[1, 1], a[2, 0]]))\n",
        "# 출력: [1 4 5]\n",
        "# 👉 일반 배열 생성: 직접 각 요소를 선택해 1차원 배열 생성\n",
        "# np.array([1, 4, 5])와 동일\n",
        "\n",
        "\n",
        "# ??????????????????????????????????\n",
        "print(a[a[0, 0], [1, 1]])\n",
        "# 출력: [3 3]\n",
        "# 👉 a[0, 0]의 값은 1, 따라서 a[1, [1, 1]]과 동일하게 동작\n",
        "# a[1, 1] = 3이므로 3이 두 번 반환됨\n",
        "\n",
        "print(np.array([a[0, 1], a[0, 1]]))\n",
        "# 출력: [2 2]\n",
        "# 👉 직접 같은 값을 두 번 선택해 배열 생성\n",
        "# np.array([2, 2])와 동일\n",
        "#??????????????????????????????????????\n"
      ],
      "metadata": {
        "colab": {
          "base_uri": "https://localhost:8080/"
        },
        "id": "yjzCpKZ1vNRK",
        "outputId": "68886493-5e54-4f9c-86f9-3ae951c183e0"
      },
      "execution_count": null,
      "outputs": [
        {
          "output_type": "stream",
          "name": "stdout",
          "text": [
            "[1 4 5]\n",
            "[1 4 5]\n",
            "[4 4]\n",
            "[2 2]\n"
          ]
        }
      ]
    },
    {
      "cell_type": "markdown",
      "source": [
        "우웩.. 아 머리아파. 이거 뭐야? print(a[a[0, 0], [1, 1]])\n",
        "\n",
        "왜 결과가 [4,4]임???\n",
        "\n",
        "print(a[1, [1,1])이 되는데? 이걸 어케 계산함?\n",
        "\n",
        "행과 행렬이라고 치면, 결과값이 a[1, 3]아닌가??  [1,1]을 먼저 계산하면? 이거 좌표잖아.\n"
      ],
      "metadata": {
        "id": "QSD04RKYyqDL"
      }
    },
    {
      "cell_type": "code",
      "source": [],
      "metadata": {
        "id": "dgEPWF9V5LEq"
      },
      "execution_count": null,
      "outputs": []
    },
    {
      "cell_type": "markdown",
      "source": [
        "2️⃣ a[1, [1, 1]]는 무슨 의미일까?\n",
        "\n",
        "\n",
        "a[1, [1, 1]]는 Fancy Indexing으로 작동해.\n",
        "\n",
        "여기서 (1번 행에서 1번 열)을 두 번 선택한다는 의미야. (존나 중요)::::::::::::\n",
        "\n",
        "즉, 1번 행의 1번 열 값은 4니까, 이 값을 두 번 반복해서 반환해.\n",
        "\n",
        "따라서 **[4, 4]**가 출력되는 거야!\n",
        "\n",
        "그저 G.O.A.T 역시 챗지퓌티!"
      ],
      "metadata": {
        "id": "9NUXnR4N4o_8"
      }
    },
    {
      "cell_type": "markdown",
      "source": [
        "내가 보기엔 a[1, [1,1]]의 핵심은 맨 처음의 1이 횟수이고 0으로시작하니까 2번임.\n",
        "\n",
        "뒤에 것이 [1,1]이니까 그대로 계산하면 4이다.\n",
        "\n",
        " 근데 이것을 두번 반환하니까 결과는 [4,4]\n"
      ],
      "metadata": {
        "id": "1hURnoVN31D9"
      }
    },
    {
      "cell_type": "code",
      "source": [
        "import numpy as np\n",
        "\n",
        "a = np.array([[1, 2, 3], [4, 5, 6], [7, 8, 9], [10, 11, 12]])\n",
        "\n",
        "print(a)\n",
        "# 출력:\n",
        "# [[ 1  2  3]\n",
        "#  [ 4  5  6]\n",
        "#  [ 7  8  9]\n",
        "#  [10 11 12]]\n",
        "\n",
        "b = np.array([0, 2, 0, 1])\n",
        "\n",
        "print(a[np.arange(4), b])\n",
        "# 출력: [ 1  6  7 11 ]\n",
        "# Fancy Indexing: (0,0), (1,2), (2,0), (3,1)의 값을 선택\n",
        "\n",
        "a[np.arange(4), b] += 10\n",
        "\n",
        "print(a)\n",
        "# 출력:\n",
        "# [[11  2  3]\n",
        "#  [ 4  5 16]\n",
        "#  [17  8  9]\n",
        "#  [10 21 12]]\n"
      ],
      "metadata": {
        "colab": {
          "base_uri": "https://localhost:8080/"
        },
        "id": "QjvvcV3t5vbK",
        "outputId": "af1c7bb6-fb14-44c2-f95d-14ef68768866"
      },
      "execution_count": null,
      "outputs": [
        {
          "output_type": "stream",
          "name": "stdout",
          "text": [
            "[[ 1  2  3]\n",
            " [ 4  5  6]\n",
            " [ 7  8  9]\n",
            " [10 11 12]]\n",
            "[ 1  6  7 11]\n",
            "[[11  2  3]\n",
            " [ 4  5 16]\n",
            " [17  8  9]\n",
            " [10 21 12]]\n"
          ]
        }
      ]
    },
    {
      "cell_type": "markdown",
      "source": [
        "오늘은 여기까지~~~ / 2025.02.12  "
      ],
      "metadata": {
        "id": "itSx50vjI6Iq"
      }
    }
  ]
}